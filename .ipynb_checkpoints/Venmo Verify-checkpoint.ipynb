{
 "cells": [
  {
   "cell_type": "code",
   "execution_count": 4,
   "metadata": {},
   "outputs": [],
   "source": [
    "from venmo_api import Client"
   ]
  },
  {
   "cell_type": "code",
   "execution_count": 8,
   "metadata": {},
   "outputs": [
    {
     "name": "stdout",
     "output_type": "stream",
     "text": [
      "\u001b[93mIMPORTANT: Take a note of your device-id to avoid 2-factor-authentication for your next login.\u001b[0m\n",
      "device-id: 98978855-26W5-0P53-08P7-3SG55M016XQ6\n",
      "\u001b[93mIMPORTANT: Your Access Token will NEVER expire, unless you logout manually (client.log_out(token)).\n",
      "Take a note of your token, so you don't have to login every time.\n",
      "\u001b[0m\n",
      "\u001b[94mSuccessfully logged in. Note your token and device-id\u001b[0m\n",
      "access_token: 48710bdb39ccfa5bfc75891b7a53ba9a28d82bacdadf94a28db42f3e6f1f3454\n",
      "device-id: 98978855-26W5-0P53-08P7-3SG55M016XQ6\n"
     ]
    }
   ],
   "source": [
    "access_token = Client.get_access_token(username='email/username',\n",
    "                                       password='password')\n",
    "venmo = Client(access_token=access_token)"
   ]
  },
  {
   "cell_type": "code",
   "execution_count": 47,
   "metadata": {},
   "outputs": [
    {
     "name": "stdout",
     "output_type": "stream",
     "text": [
      "3222421642059710499\n",
      "3220728060076622249\n",
      "3220700946828886478\n",
      "3220019751979844301\n",
      "3219969482021667144\n",
      "3219969459003326491\n",
      "3219969387398168608\n",
      "3219969374798479970\n",
      "3219969311489655553\n",
      "3219969296104948378\n"
     ]
    }
   ],
   "source": [
    "def callback(transactions_list):\n",
    "    for transaction in transactions_list:\n",
    "        print(transaction)\n",
    "\n",
    "        \n",
    "[p.note for p in venmo.payment._PaymentApi__get_payments(\"pay\",limit=10)]\n",
    "\n",
    "\n",
    "user = venmo.user.get_my_profile()\n",
    "id = None\n",
    "for i in range(10):\n",
    "    id = venmo.user.get_user_transactions(user=user,limit=1,before_id=id)[0].id\n",
    "    print(id)"
   ]
  },
  {
   "cell_type": "code",
   "execution_count": null,
   "metadata": {},
   "outputs": [],
   "source": []
  }
 ],
 "metadata": {
  "kernelspec": {
   "display_name": "Python 3",
   "language": "python",
   "name": "python3"
  },
  "language_info": {
   "codemirror_mode": {
    "name": "ipython",
    "version": 3
   },
   "file_extension": ".py",
   "mimetype": "text/x-python",
   "name": "python",
   "nbconvert_exporter": "python",
   "pygments_lexer": "ipython3",
   "version": "3.8.5"
  }
 },
 "nbformat": 4,
 "nbformat_minor": 4
}
